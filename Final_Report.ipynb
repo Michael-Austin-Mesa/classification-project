{
 "cells": [
  {
   "cell_type": "markdown",
   "id": "65afdd87",
   "metadata": {},
   "source": [
    "# Telco Churn\n",
    "\n",
    "## Goals:\n",
    "\n",
    "- Find drivers for customer churn at Telco. Why are customers churning?\n",
    "\n",
    "- Construct a ML classification model that accurately predicts customer churn."
   ]
  },
  {
   "cell_type": "markdown",
   "id": "5069a689",
   "metadata": {},
   "source": [
    "# Imports"
   ]
  },
  {
   "cell_type": "code",
   "execution_count": 1,
   "id": "61a47e9f",
   "metadata": {},
   "outputs": [],
   "source": [
    "import pandas as pd\n",
    "import numpy as np\n",
    "\n",
    "import matplotlib.pyplot as plt\n",
    "import seaborn as sns\n",
    "import os\n",
    "\n",
    "from sklearn.model_selection import train_test_split\n",
    "import sklearn.preprocessing\n",
    "from sklearn.tree import DecisionTreeClassifier\n",
    "from sklearn.ensemble import RandomForestClassifier\n",
    "from sklearn.neighbors import KNeighborsClassifier\n",
    "from sklearn.linear_model import LogisticRegression\n",
    "\n",
    "import warnings\n",
    "warnings.filterwarnings(\"ignore\")\n",
    "\n",
    "from scipy import stats\n",
    "import re\n",
    "\n",
    "import acquire as a\n",
    "import prepare as p\n",
    "import telco_exploring_data as e\n",
    "import telco_plotting_modeling_data as pm"
   ]
  },
  {
   "cell_type": "markdown",
   "id": "4636abc3",
   "metadata": {},
   "source": [
    "# Acquire"
   ]
  },
  {
   "cell_type": "markdown",
   "id": "b1c9fbef",
   "metadata": {},
   "source": [
    "- Data acquired from SQL database\n",
    "\n",
    "- It contained 7,043 rows and 24 columns before cleaning\n",
    "\n",
    "- Each row represents former or current customers from Telco\n",
    "\n",
    "- Each column represents a feature that describes the customer"
   ]
  },
  {
   "cell_type": "code",
   "execution_count": 2,
   "id": "1cae2f71",
   "metadata": {},
   "outputs": [],
   "source": [
    "# Acquiring data\n",
    "df = a.get_telco_data()"
   ]
  },
  {
   "cell_type": "markdown",
   "id": "c88f6dd0",
   "metadata": {},
   "source": [
    "# Prepare"
   ]
  },
  {
   "cell_type": "markdown",
   "id": "eacc5f94",
   "metadata": {},
   "source": [
    "- Checked for nulls (no nulls found)\n",
    "\n",
    "- Renamed columns for readability\n",
    "\n",
    "- Removed columns that did not contain useful information\n",
    "\n",
    "- Removed whitespace and encoded categorical variables\n",
    "\n",
    "- Added dummy columns to have binary data to use for exploring and modeling\n",
    "\n",
    "- Split data into train, validate, and test, stratifying on 'churn'\n",
    "\n",
    "- No outliers were removed"
   ]
  },
  {
   "cell_type": "markdown",
   "id": "586c7e29",
   "metadata": {},
   "source": [
    "# Data Dictionary"
   ]
  },
  {
   "cell_type": "markdown",
   "id": "40abad8a",
   "metadata": {},
   "source": [
    "| Feature | Definition |\n",
    "| :- | :- |\n",
    "| Churn | True or False, Churned customers have left the company |\n",
    "| Multiple Lines | True or False, customer has phone service with multiple lines or not |\n",
    "| Dependents | True or False, customer has dependents or not |\n",
    "| Partner | True or False, customer has a partner or not |\n",
    "| Senior Citizen | True or False, customer is a senior citizen or not |\n",
    "| Internet Service | True or False, customer has internet service or not |\n",
    "| Tenure | An integer that shows the number of months a customer has been with the company |"
   ]
  },
  {
   "cell_type": "code",
   "execution_count": 3,
   "id": "be549d2d",
   "metadata": {},
   "outputs": [],
   "source": [
    "# Data clean-up and additional features added\n",
    "# Data split into train, validate, and test\n",
    "train, validate, test = p.prep_telco_data(df)"
   ]
  },
  {
   "cell_type": "markdown",
   "id": "f930a885",
   "metadata": {},
   "source": [
    "# Explore"
   ]
  },
  {
   "cell_type": "markdown",
   "id": "c0cb124d",
   "metadata": {},
   "source": [
    "## Questions:\n",
    "\n",
    ">Is tenure significantly different in customers who have churned than customers who have not churned?\n",
    "\n",
    ">Does a customer having a partner affectchurn?\n",
    "\n",
    ">Does a customer having dependents play a role in churn?\n",
    "\n",
    ">Is a customer's senior citizen status related to churn?\n",
    "\n",
    ">Does a customer having internet service affect churn?\n",
    "\n",
    ">Does a customer having multiple lines with phone service affect churn?"
   ]
  },
  {
   "cell_type": "markdown",
   "id": "5947260a",
   "metadata": {},
   "source": [
    "## How often does churn occur?"
   ]
  },
  {
   "cell_type": "code",
   "execution_count": 4,
   "id": "dd11cb1f",
   "metadata": {},
   "outputs": [
    {
     "data": {
      "image/png": "[encoded data removed]",
      "text/plain": [
       "<Figure size 432x288 with 1 Axes>"
      ]
     },
     "metadata": {},
     "output_type": "display_data"
    }
   ],
   "source": [
    "# get pie chart churn\n",
    "pm.get_pie_churn(train)"
   ]
  },
  {
   "cell_type": "markdown",
   "id": "99c6b34f",
   "metadata": {},
   "source": [
    "- About 27% of customers in the training data will churn"
   ]
  },
  {
   "cell_type": "markdown",
   "id": "7e10d0d4",
   "metadata": {},
   "source": [
    "## Is tenure significantly different in customers who have churned than customers who have not churned?"
   ]
  },
  {
   "cell_type": "code",
   "execution_count": 5,
   "id": "20aeb574",
   "metadata": {},
   "outputs": [
    {
     "data": {
      "image/png": "[encoded data removed]",
      "text/plain": [
       "<Figure size 432x288 with 1 Axes>"
      ]
     },
     "metadata": {
      "needs_background": "light"
     },
     "output_type": "display_data"
    }
   ],
   "source": [
    "# get histogram chart for tenure, no churn\n",
    "pm.get_hist_tenure_no_churn(train)"
   ]
  },
  {
   "cell_type": "markdown",
   "id": "f011c8f5",
   "metadata": {},
   "source": [
    "- There is a variety of ongoing tenures in customers currently with Telco. Especially high retention of customers with tenure greater than 65."
   ]
  },
  {
   "cell_type": "code",
   "execution_count": 6,
   "id": "48463c72",
   "metadata": {},
   "outputs": [
    {
     "data": {
      "image/png": "[encoded data removed]",
      "text/plain": [
       "<Figure size 432x288 with 1 Axes>"
      ]
     },
     "metadata": {
      "needs_background": "light"
     },
     "output_type": "display_data"
    }
   ],
   "source": [
    "# get histogram chart for tenure, churn\n",
    "pm.get_hist_tenure_churn(train)"
   ]
  },
  {
   "cell_type": "markdown",
   "id": "ffb1daee",
   "metadata": {},
   "source": [
    "- Customers who have churned appear to have a low tenure."
   ]
  },
  {
   "cell_type": "markdown",
   "id": "c74de7a9",
   "metadata": {},
   "source": [
    "#### I will use an independent t-test between two sample groups to determine if 'Tenure' and 'Churn' are related.\n",
    "\n",
    ">One group will contain the tenure of customers who have not churned.\n",
    "\n",
    ">The second group will contain the tenure of customers who have churned.\n",
    "\n",
    ">I will use a confidence interval of 95% with alpha set to .05"
   ]
  },
  {
   "cell_type": "markdown",
   "id": "86a17b59",
   "metadata": {},
   "source": [
    "#### Ho: 'Tenure' of 'Churned' and 'Not Churned' customers are the same.\n",
    "#### Ha: 'Tenure' of 'Churned' and 'Not Churned' customers are significantly differrent."
   ]
  },
  {
   "cell_type": "code",
   "execution_count": 7,
   "id": "fa0c591a",
   "metadata": {},
   "outputs": [
    {
     "name": "stdout",
     "output_type": "stream",
     "text": [
      "t     = 25.7700\n",
      "p     = 0.0000\n"
     ]
    }
   ],
   "source": [
    "# get ttest\n",
    "e.get_ind_ttest_tenure(train)"
   ]
  },
  {
   "cell_type": "markdown",
   "id": "d1a7b790",
   "metadata": {},
   "source": [
    "### The p-value is lower than our alpha, giving us the evidence to support that a relationship exists between 'Tenure' and 'Churn'. With our null hypothesis rejected, and the signifcant difference in tenure between customers who have churned and customers who have not churned, I believe that using the 'Tenure' feature will have a significant positive impact on the model's accuracy."
   ]
  },
  {
   "cell_type": "markdown",
   "id": "825ba899",
   "metadata": {},
   "source": [
    "## Does a customer having a partner affect churn?"
   ]
  },
  {
   "cell_type": "code",
   "execution_count": 8,
   "id": "64bb973d",
   "metadata": {},
   "outputs": [
    {
     "data": {
      "image/png": "[encoded data removed]",
      "text/plain": [
       "<Figure size 432x288 with 2 Axes>"
      ]
     },
     "metadata": {},
     "output_type": "display_data"
    }
   ],
   "source": [
    "# get pie charts\n",
    "pm.get_pie_part(train)"
   ]
  },
  {
   "cell_type": "markdown",
   "id": "87f796fd",
   "metadata": {},
   "source": [
    "- Churn rate is 13% higher in customers who do not have a partner."
   ]
  },
  {
   "cell_type": "markdown",
   "id": "c430d54e",
   "metadata": {},
   "source": [
    "#### I will now use a chi-square test to determine if 'Partner' and 'Churn' are related.\n",
    "\n",
    ">I will use a confidence interval of 95% with alpha set to .05"
   ]
  },
  {
   "cell_type": "markdown",
   "id": "4f57058d",
   "metadata": {},
   "source": [
    "#### Ho: 'Partner' and 'Churn' are independent of each other.\n",
    "\n",
    "#### Ha: 'Partner' and 'Churn' are related."
   ]
  },
  {
   "cell_type": "code",
   "execution_count": 9,
   "id": "4a2f9dce",
   "metadata": {},
   "outputs": [
    {
     "name": "stdout",
     "output_type": "stream",
     "text": [
      "chi^2 = 80.0893\n",
      "p     = 0.0000\n"
     ]
    }
   ],
   "source": [
    "# get chi2\n",
    "e.get_chi2_part(train)"
   ]
  },
  {
   "cell_type": "markdown",
   "id": "76670550",
   "metadata": {},
   "source": [
    "### The p-value is lower than our alpha, giving us the evidence to support that a relationship exists between 'Partner' and 'Churn'. With our null hypothesis rejected, and the 13% difference in churn observed in the train data, I believe that using 'Partner' in modeling will likely have a significant positive impact on the model's accuracy."
   ]
  },
  {
   "cell_type": "markdown",
   "id": "81115fb1",
   "metadata": {},
   "source": [
    "## Does a customer having dependents play a role in churn?"
   ]
  },
  {
   "cell_type": "code",
   "execution_count": 10,
   "id": "21678e89",
   "metadata": {},
   "outputs": [
    {
     "data": {
      "image/png": "[encoded data removed]",
      "text/plain": [
       "<Figure size 432x288 with 2 Axes>"
      ]
     },
     "metadata": {},
     "output_type": "display_data"
    }
   ],
   "source": [
    "# get pie charts\n",
    "pm.get_pie_dep(train)"
   ]
  },
  {
   "cell_type": "markdown",
   "id": "bad8e619",
   "metadata": {},
   "source": [
    "- Churn percentage is 15% higher in customers who do not have dependents."
   ]
  },
  {
   "cell_type": "markdown",
   "id": "d3b874de",
   "metadata": {},
   "source": [
    "#### I will now use a chi-square test to determine if 'Dependents' and 'Churn' are related.\n",
    "\n",
    ">I will use a confidence interval of 95% with alpha set to .05"
   ]
  },
  {
   "cell_type": "markdown",
   "id": "86b53ca1",
   "metadata": {},
   "source": [
    "#### Ho: 'Dependents' and 'Churn' are independent of each other.\n",
    "\n",
    "#### Ha: 'Dependents' and 'Churn' are related."
   ]
  },
  {
   "cell_type": "code",
   "execution_count": 11,
   "id": "d8f133d2",
   "metadata": {},
   "outputs": [
    {
     "name": "stdout",
     "output_type": "stream",
     "text": [
      "chi^2 = 104.5425\n",
      "p     = 0.0000\n"
     ]
    }
   ],
   "source": [
    "# get chi2\n",
    "e.get_chi2_dep(train)"
   ]
  },
  {
   "cell_type": "markdown",
   "id": "7ce77f6f",
   "metadata": {},
   "source": [
    "### The p-value is lower than our alpha, giving us the evidence to support that a relationship exists between 'Dependents' and 'Churn'. With our null hypothesis rejected, and the 15% difference in churn observed in the train data, I believe that using 'Dependents' in modeling will likely have a significant positive impact on the model's accuracy."
   ]
  },
  {
   "cell_type": "markdown",
   "id": "362ab785",
   "metadata": {},
   "source": [
    "## Is a customer's senior citizen status related to churn?"
   ]
  },
  {
   "cell_type": "code",
   "execution_count": 12,
   "id": "3f6c1c21",
   "metadata": {},
   "outputs": [
    {
     "data": {
      "image/png": "[encoded data removed]",
      "text/plain": [
       "<Figure size 432x288 with 2 Axes>"
      ]
     },
     "metadata": {},
     "output_type": "display_data"
    }
   ],
   "source": [
    "# get pie charts\n",
    "pm.get_pie_sen(train)"
   ]
  },
  {
   "cell_type": "markdown",
   "id": "98f52be8",
   "metadata": {},
   "source": [
    "- Churn percentage is 20% higher in customers who are senior citizens."
   ]
  },
  {
   "cell_type": "markdown",
   "id": "9e72f0de",
   "metadata": {},
   "source": []
  },
  {
   "cell_type": "markdown",
   "id": "5f08fc9b",
   "metadata": {},
   "source": [
    "#### I will now use a chi-square test to determine if 'Senior Citizen' and 'Churn' are related.\n",
    "\n",
    ">I will use a confidence interval of 95% with alpha set to .05"
   ]
  },
  {
   "cell_type": "markdown",
   "id": "4d7d1029",
   "metadata": {},
   "source": [
    "#### Ho: 'Senior Citizen' and 'Churn' are independent of each other.\n",
    "\n",
    "#### Ha: 'Senior Citizen' and 'Churn' are related."
   ]
  },
  {
   "cell_type": "code",
   "execution_count": 13,
   "id": "9ceed223",
   "metadata": {
    "scrolled": true
   },
   "outputs": [
    {
     "name": "stdout",
     "output_type": "stream",
     "text": [
      "chi^2 = 99.7192\n",
      "p     = 0.0000\n"
     ]
    }
   ],
   "source": [
    "# get chi2\n",
    "e.get_chi2_sen(train)"
   ]
  },
  {
   "cell_type": "markdown",
   "id": "dbcaca97",
   "metadata": {},
   "source": [
    "### The p-value is lower than our alpha, giving us the evidence to support that a relationship exists between 'Senior Citizen' and 'Churn'. With our null hypothesis rejected, and the 20% difference in churn observed in the train data, I believe that using 'Senior Citizen' in modeling will likely have a significant positive impact on the model's accuracy."
   ]
  },
  {
   "cell_type": "markdown",
   "id": "a762b5b6",
   "metadata": {},
   "source": [
    "## Does a customer having internet service affect churn?"
   ]
  },
  {
   "cell_type": "code",
   "execution_count": 14,
   "id": "3375f7a4",
   "metadata": {},
   "outputs": [
    {
     "data": {
      "image/png": "[encoded data removed]",
      "text/plain": [
       "<Figure size 432x288 with 2 Axes>"
      ]
     },
     "metadata": {},
     "output_type": "display_data"
    }
   ],
   "source": [
    "# get pie charts\n",
    "pm.get_pie_int(train)"
   ]
  },
  {
   "cell_type": "markdown",
   "id": "bede7642",
   "metadata": {},
   "source": [
    "- There is a 25% higher churn rate in customers who do not have internet service with Telco."
   ]
  },
  {
   "cell_type": "markdown",
   "id": "293571a2",
   "metadata": {},
   "source": [
    "#### I will now use a chi-square test to determine if 'Internet Service' and 'Churn' are related.\n",
    "\n",
    ">I will use a confidence interval of 95% with alpha set to .05"
   ]
  },
  {
   "cell_type": "markdown",
   "id": "4381d608",
   "metadata": {},
   "source": [
    "#### Ho: 'Internet Service' and 'Churn' are independent of each other.\n",
    "\n",
    "#### Ha: 'Internet Service' and 'Churn' are related."
   ]
  },
  {
   "cell_type": "code",
   "execution_count": 15,
   "id": "dd0f8145",
   "metadata": {
    "scrolled": false
   },
   "outputs": [
    {
     "name": "stdout",
     "output_type": "stream",
     "text": [
      "chi^2 = 208.5365\n",
      "p     = 0.0000\n"
     ]
    }
   ],
   "source": [
    "# get chi2\n",
    "e.get_chi2_int(train)"
   ]
  },
  {
   "cell_type": "markdown",
   "id": "9680ad06",
   "metadata": {},
   "source": [
    "### The p-value is lower than our alpha, giving us the evidence to support that a relationship exists between 'Internet Service' and 'Churn'. With our null hypothesis rejected, and the 25% difference in churn observed in the train data, I believe that using 'Internet Service' in modeling will likely have a significant positive impact on the model's accuracy."
   ]
  },
  {
   "cell_type": "markdown",
   "id": "379351ca",
   "metadata": {},
   "source": [
    "## Does a customer having multiple lines with phone service affect churn?"
   ]
  },
  {
   "cell_type": "code",
   "execution_count": 16,
   "id": "8ee677ab",
   "metadata": {},
   "outputs": [
    {
     "data": {
      "image/png": "[encoded data removed]",
      "text/plain": [
       "<Figure size 432x288 with 2 Axes>"
      ]
     },
     "metadata": {},
     "output_type": "display_data"
    }
   ],
   "source": [
    "# get pie charts\n",
    "pm.get_pie_mult(train)"
   ]
  },
  {
   "cell_type": "markdown",
   "id": "efc217a7",
   "metadata": {},
   "source": [
    "- There is a 4% higher churn rate in customers who have multiple lines."
   ]
  },
  {
   "cell_type": "markdown",
   "id": "e67fa7f3",
   "metadata": {},
   "source": [
    "#### I will now use a chi-square test to determine if 'Internet Service' and 'Churn' are related.\n",
    "\n",
    ">I will use a confidence interval of 95% with alpha set to .05"
   ]
  },
  {
   "cell_type": "code",
   "execution_count": 17,
   "id": "3a664f42",
   "metadata": {
    "scrolled": true
   },
   "outputs": [
    {
     "name": "stdout",
     "output_type": "stream",
     "text": [
      "chi^2 = 10.8303\n",
      "p     = 0.0010\n"
     ]
    }
   ],
   "source": [
    "# get chi2\n",
    "e.get_chi2_mult(train)"
   ]
  },
  {
   "cell_type": "markdown",
   "id": "a1870ac5",
   "metadata": {},
   "source": [
    "### The p-value is lower than our alpha, giving us the evidence to support that a relationship exists between 'Multiple Lines' and 'Churn'. With our null hypothesis rejected, and the 4% difference in churn observed in the train data, I believe that using 'Multiple Lines' in modeling will likely have a small positive impact on the model's accuracy."
   ]
  },
  {
   "cell_type": "markdown",
   "id": "75921492",
   "metadata": {},
   "source": [
    "## Exploration Summary"
   ]
  },
  {
   "cell_type": "markdown",
   "id": "8ee22ef7",
   "metadata": {},
   "source": [
    "- 'Multiple Lines' was found to be a driver of 'Churn' but is likely a weak influence.\n",
    "\n",
    "\n",
    "- 'Tenure' was found to be a driver of 'Churn', significant differences in tenure between churn and non-churn sample groups were found.\n",
    "\n",
    "\n",
    "- 'Partner' was found to be a driver of 'Churn'\n",
    "\n",
    "\n",
    "- 'Dependents' was found to be a driver of 'Churn'\n",
    "\n",
    "\n",
    "- 'Senior Citizen' was found to be a driver of 'Churn'\n",
    "\n",
    "\n",
    "- 'Internet Service' was found to be a driver of 'Churn'"
   ]
  },
  {
   "cell_type": "markdown",
   "id": "27f3de5c",
   "metadata": {},
   "source": [
    "## Features To Move Forward With"
   ]
  },
  {
   "cell_type": "markdown",
   "id": "f36a58a2",
   "metadata": {},
   "source": [
    "- 'Multiple Lines' (small percentage difference in churn, but statistically significant)\n",
    "\n",
    "\n",
    "- 'Tenure' (large difference in tenure between sample groups)\n",
    "\n",
    "\n",
    "- 'Partner' (significant percentage difference in churn and statistical relationship found)\n",
    "\n",
    "\n",
    "- 'Dependents' (significant percentage difference in churn and statistical relationship found)\n",
    "\n",
    "\n",
    "- 'Senior Citizen' (significant percentage difference in churn and statistical relationship found)\n",
    "\n",
    "\n",
    "- 'Internet Service' (significant percentage difference in churn and statistical relationship found)"
   ]
  },
  {
   "cell_type": "markdown",
   "id": "8a06d8cc",
   "metadata": {},
   "source": [
    "## Modeling\n",
    "\n",
    "- I will use accuracy as my evaluation metric\n",
    "\n",
    "\n",
    "- Non-churned customers makeup 73% of the data\n",
    "\n",
    "\n",
    "- By assuming no churn for every customer, there is an accuracy of 73%\n",
    "\n",
    "\n",
    "- 73% will be the baseline accuracy I use for this project\n",
    "\n",
    "\n",
    "- I will be evalutating models developed using four different model types and varying hyperparameter configurations\n",
    "\n",
    "\n",
    "- Models will be evaluated on train and validate data\n",
    "\n",
    "\n",
    "- Model that performs best will move on to be evaluated against the test data set"
   ]
  },
  {
   "cell_type": "code",
   "execution_count": 18,
   "id": "8443e01c",
   "metadata": {},
   "outputs": [],
   "source": [
    "# prep data for modeling\n",
    "train_x, validate_x, test_x, train_y, validate_y, test_y = pm.model_prep(train, validate, test)"
   ]
  },
  {
   "cell_type": "markdown",
   "id": "fd98075b",
   "metadata": {},
   "source": [
    "## Decision Tree"
   ]
  },
  {
   "cell_type": "code",
   "execution_count": 19,
   "id": "0bbea7f5",
   "metadata": {},
   "outputs": [
    {
     "name": "stdout",
     "output_type": "stream",
     "text": [
      "Accuracy of Decision Tree on train data is 0.7914655829311659\n",
      "Accuracy of Decision Tree on validate data is 0.764218009478673\n"
     ]
    }
   ],
   "source": [
    "# get decision tree results\n",
    "pm.get_tree(train_x, validate_x, train_y, validate_y)"
   ]
  },
  {
   "cell_type": "markdown",
   "id": "84733a1f",
   "metadata": {},
   "source": [
    "- Decision Tree validate accuracy is 3% higher than baseline, a good start"
   ]
  },
  {
   "cell_type": "markdown",
   "id": "d29dd114",
   "metadata": {},
   "source": [
    "## Random Forest"
   ]
  },
  {
   "cell_type": "code",
   "execution_count": 20,
   "id": "2e9c2019",
   "metadata": {},
   "outputs": [
    {
     "name": "stdout",
     "output_type": "stream",
     "text": [
      "Accuracy of Random Forest on train data is 0.7914655829311659\n",
      "Accuracy of Random Forest on validate data is 0.7707345971563981\n"
     ]
    }
   ],
   "source": [
    "# get rf results\n",
    "pm.get_rf(train_x, validate_x, train_y, validate_y)"
   ]
  },
  {
   "cell_type": "markdown",
   "id": "64cd329f",
   "metadata": {},
   "source": [
    "- Random Forest validate accuracy is 4% higher than baseline"
   ]
  },
  {
   "cell_type": "markdown",
   "id": "fccb6625",
   "metadata": {},
   "source": [
    "## Logistic Regression"
   ]
  },
  {
   "cell_type": "code",
   "execution_count": 21,
   "id": "3f33fb3e",
   "metadata": {},
   "outputs": [
    {
     "name": "stdout",
     "output_type": "stream",
     "text": [
      "Accuracy of Logistic Regression on train is 0.7858775717551435\n",
      "Accuracy of Logistic Regression on validate is 0.7636255924170616\n"
     ]
    }
   ],
   "source": [
    "# get logistic regression results\n",
    "pm.get_reg(train_x, validate_x, train_y, validate_y)"
   ]
  },
  {
   "cell_type": "markdown",
   "id": "3f4727af",
   "metadata": {},
   "source": [
    "- Logistic Regression validate accuracy is 3% higher than baseline"
   ]
  },
  {
   "cell_type": "markdown",
   "id": "4df3b551",
   "metadata": {},
   "source": [
    "## KNN"
   ]
  },
  {
   "cell_type": "code",
   "execution_count": 22,
   "id": "9812e542",
   "metadata": {},
   "outputs": [
    {
     "name": "stdout",
     "output_type": "stream",
     "text": [
      "Accuracy of KNN on train is 0.8051816103632208\n",
      "Accuracy of KNN on validate is 0.7511848341232228\n"
     ]
    }
   ],
   "source": [
    "# get knn results\n",
    "pm.get_knn(train_x, validate_x, train_y, validate_y)"
   ]
  },
  {
   "cell_type": "markdown",
   "id": "acc973ce",
   "metadata": {},
   "source": [
    "- KNN validate accuracy is 2% higher than baseline"
   ]
  },
  {
   "cell_type": "markdown",
   "id": "6c314348",
   "metadata": {},
   "source": [
    "## Comparing Models"
   ]
  },
  {
   "cell_type": "markdown",
   "id": "d4b87693",
   "metadata": {},
   "source": [
    "- All models performed better than baseline on train and validate.\n",
    "\n",
    "- All models are good choices for test, but we must go with the model that performed the best overall, which is Random Forest.\n",
    "\n",
    "- Random Forest performed best with 77% accuracy, 4% higher than baseline."
   ]
  },
  {
   "cell_type": "markdown",
   "id": "bd590230",
   "metadata": {},
   "source": [
    "## Random Forest on Test"
   ]
  },
  {
   "cell_type": "code",
   "execution_count": 23,
   "id": "b913f2fe",
   "metadata": {},
   "outputs": [
    {
     "name": "stdout",
     "output_type": "stream",
     "text": [
      "Accuracy of Random Forest on train data is 0.7914655829311659\n",
      "Accuracy of Random Forest on test data is 0.7924662402274343\n"
     ]
    }
   ],
   "source": [
    "# get test results for final model\n",
    "pm.get_rf_test(train_x, test_x, train_y, test_y)"
   ]
  },
  {
   "cell_type": "markdown",
   "id": "22f27768",
   "metadata": {},
   "source": [
    "## Modeling Summary\n",
    "\n",
    "- All models performed better than baseline on train and validate.\n",
    "\n",
    "- Random Forest was the model with the highest accuracy and was selected test evaluation.\n",
    "\n",
    "- Random Forest delivered an accuracy of 79% on both train and test data, 6% above baseline."
   ]
  },
  {
   "cell_type": "markdown",
   "id": "b477119e",
   "metadata": {},
   "source": [
    "# Conclusions"
   ]
  },
  {
   "cell_type": "markdown",
   "id": "9b93e7d3",
   "metadata": {},
   "source": [
    "### Exploration"
   ]
  },
  {
   "cell_type": "markdown",
   "id": "8d8df95e",
   "metadata": {},
   "source": [
    "- No churn in customers occurs about 73% of the time\n",
    "\n",
    "\n",
    "- Customers who did not have dependents have a higher chance of churning\n",
    "\n",
    "\n",
    "- Customers who are senior citizens have a higher chance of churning\n",
    "\n",
    "\n",
    "- Customers without a partner have a higher chance of churning\n",
    "\n",
    "\n",
    "- Customers without internet service have a higher chance of churning\n",
    "\n",
    "\n",
    "- Customers with multiple lines and phone service have a slightly higher chance of churning\n",
    "\n",
    "\n",
    "- Tenure is significantly different between customers who churned and customer who did not churn"
   ]
  },
  {
   "cell_type": "markdown",
   "id": "cf600b33",
   "metadata": {},
   "source": [
    "### Modeling"
   ]
  },
  {
   "cell_type": "markdown",
   "id": "7dfdf908",
   "metadata": {},
   "source": [
    "#### The final model significantly outperformed the baseline.\n",
    "- Model performs 6% higher than baseline predictions.\n",
    "#### Possible reason for this:\n",
    "\n",
    "- 'Dependents', 'Partner', 'Senior Citizen', 'Internet Service', and 'Tenure' are significant drivers of churn.\n",
    "\n",
    "\n",
    "- 'Multiple Lines' has a smaller influence to final model accuracy but was included as it led to a slightly higher accuracy in validate evaluations."
   ]
  },
  {
   "cell_type": "markdown",
   "id": "571cd3cf",
   "metadata": {},
   "source": [
    "## Recommendations\n",
    "\n",
    "- Possible limited time discounts to customers who are likely to churn within the featured demographics such as senior citizens and customers who are without a partner or dependents.\n",
    "\n",
    "\n",
    "- Incentivize using Telco's internet service."
   ]
  },
  {
   "cell_type": "markdown",
   "id": "42b8ab83",
   "metadata": {},
   "source": [
    "## Next steps\n",
    "\n",
    "- Investigate the services that customers who churned are using to further identify other drivers of churn."
   ]
  }
 ],
 "metadata": {
  "kernelspec": {
   "display_name": "Python 3 (ipykernel)",
   "language": "python",
   "name": "python3"
  },
  "language_info": {
   "codemirror_mode": {
    "name": "ipython",
    "version": 3
   },
   "file_extension": ".py",
   "mimetype": "text/x-python",
   "name": "python",
   "nbconvert_exporter": "python",
   "pygments_lexer": "ipython3",
   "version": "3.9.12"
  }
 },
 "nbformat": 4,
 "nbformat_minor": 5
}
