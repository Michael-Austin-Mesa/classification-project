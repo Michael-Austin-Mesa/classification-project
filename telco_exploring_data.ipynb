{
 "cells": [
  {
   "cell_type": "code",
   "execution_count": 1,
   "id": "d90c447b",
   "metadata": {},
   "outputs": [],
   "source": [
    "import pandas as pd\n",
    "import numpy as np\n",
    "\n",
    "import matplotlib.pyplot as plt\n",
    "import seaborn as sns\n",
    "import os\n",
    "\n",
    "from sklearn.model_selection import train_test_split\n",
    "import sklearn.preprocessing\n",
    "from sklearn.tree import DecisionTreeClassifier\n",
    "from sklearn.ensemble import RandomForestClassifier\n",
    "from sklearn.neighbors import KNeighborsClassifier\n",
    "from sklearn.linear_model import LogisticRegression\n",
    "\n",
    "import warnings\n",
    "warnings.filterwarnings(\"ignore\")\n",
    "\n",
    "from scipy import stats\n",
    "import re\n",
    "\n",
    "import acquire\n",
    "import prepare"
   ]
  },
  {
   "cell_type": "code",
   "execution_count": 2,
   "id": "ee5a4c94",
   "metadata": {},
   "outputs": [],
   "source": [
    "df = acquire.get_telco_data()"
   ]
  },
  {
   "cell_type": "code",
   "execution_count": 15,
   "id": "88260abc",
   "metadata": {},
   "outputs": [],
   "source": [
    "#df.info()"
   ]
  },
  {
   "cell_type": "code",
   "execution_count": 4,
   "id": "679ee64a",
   "metadata": {},
   "outputs": [],
   "source": [
    "train, validate, test = prepare.prep_telco_data(df)"
   ]
  },
  {
   "cell_type": "code",
   "execution_count": 19,
   "id": "399ee9b5",
   "metadata": {},
   "outputs": [],
   "source": [
    "#train.info()"
   ]
  },
  {
   "cell_type": "markdown",
   "id": "9cd509b9",
   "metadata": {},
   "source": [
    "## multiple lines/churn"
   ]
  },
  {
   "cell_type": "code",
   "execution_count": 20,
   "id": "4153f77b",
   "metadata": {},
   "outputs": [],
   "source": [
    "#multiple lines and churn chi2\n",
    "def get_chi2_mult(train):\n",
    "    observed = pd.crosstab(train.multiple_lines_Yes, train.churn_Yes)\n",
    "\n",
    "    chi2, p, degf, expected = stats.chi2_contingency(observed)\n",
    "    print(f'chi^2 = {chi2:.4f}')\n",
    "    print(f'p     = {p:.4f}')"
   ]
  },
  {
   "cell_type": "markdown",
   "id": "359c5fc4",
   "metadata": {},
   "source": [
    "## dependents/churn"
   ]
  },
  {
   "cell_type": "code",
   "execution_count": 22,
   "id": "44ef1724",
   "metadata": {},
   "outputs": [
    {
     "name": "stdout",
     "output_type": "stream",
     "text": [
      "chi^2 = 104.5425\n",
      "p     = 0.0000\n"
     ]
    }
   ],
   "source": [
    "#dependents and churn chi2\n",
    "def get_chi2_dep(train):\n",
    "    observed = pd.crosstab(train.dependents_encoded, train.churn_Yes)\n",
    "\n",
    "    chi2, p, degf, expected = stats.chi2_contingency(observed)\n",
    "    print(f'chi^2 = {chi2:.4f}')\n",
    "    print(f'p     = {p:.4f}')\n",
    "    \n",
    "get_chi2_dep(train)"
   ]
  },
  {
   "cell_type": "markdown",
   "id": "f8334ec4",
   "metadata": {},
   "source": [
    "## partner/churn"
   ]
  },
  {
   "cell_type": "code",
   "execution_count": 23,
   "id": "83f939da",
   "metadata": {},
   "outputs": [],
   "source": [
    "#partner and churn chi2\n",
    "def get_chi2_part(train):\n",
    "    observed = pd.crosstab(train.partner, train.churn_Yes)\n",
    "\n",
    "    chi2, p, degf, expected = stats.chi2_contingency(observed)\n",
    "    print(f'chi^2 = {chi2:.4f}')\n",
    "    print(f'p     = {p:.4f}')"
   ]
  },
  {
   "cell_type": "markdown",
   "id": "982e1edf",
   "metadata": {},
   "source": [
    "## senior/churn"
   ]
  },
  {
   "cell_type": "code",
   "execution_count": 26,
   "id": "fa89d4b0",
   "metadata": {},
   "outputs": [],
   "source": [
    "#senior_citizen and churn chi2\n",
    "def get_chi2_sen(train):\n",
    "    observed = pd.crosstab(train.senior_citizen, train.churn_Yes)\n",
    "    chi2, p, degf, expected = stats.chi2_contingency(observed)\n",
    "    print(f'chi^2 = {chi2:.4f}')\n",
    "    print(f'p     = {p:.4f}')"
   ]
  },
  {
   "cell_type": "markdown",
   "id": "b9b43d5f",
   "metadata": {},
   "source": [
    "## internet/churn"
   ]
  },
  {
   "cell_type": "code",
   "execution_count": 27,
   "id": "84221af9",
   "metadata": {},
   "outputs": [],
   "source": [
    "#internet_service_type_None and churn chi2\n",
    "def get_chi2_int(train):\n",
    "    observed = pd.crosstab(train.internet_service_type_None, train.churn_Yes)\n",
    "    chi2, p, degf, expected = stats.chi2_contingency(observed)\n",
    "    print(f'chi^2 = {chi2:.4f}')\n",
    "    print(f'p     = {p:.4f}')"
   ]
  },
  {
   "cell_type": "code",
   "execution_count": 28,
   "id": "a87316fd",
   "metadata": {},
   "outputs": [],
   "source": [
    "\n",
    "#observed6 = pd.crosstab(train.phone_service, train.churn_Yes)\n",
    "#chi2, p, degf, expected = stats.chi2_contingency(observed6)\n",
    "#print(f'chi^2 = {chi2:.4f}')\n",
    "#print(f'p     = {p:.4f}')"
   ]
  },
  {
   "cell_type": "markdown",
   "id": "bfa767a4",
   "metadata": {},
   "source": [
    "## customer tenure/churn"
   ]
  },
  {
   "cell_type": "code",
   "execution_count": 29,
   "id": "4b5ee1b1",
   "metadata": {},
   "outputs": [],
   "source": [
    "#churn_sample=train[train.churn_Yes==1].tenure\n",
    "#overall_mean = train.tenure.mean()\n",
    "\n",
    "#t, p = stats.ttest_1samp(churn_sample, overall_mean)\n",
    "#print(f't     = {t:.4f}')\n",
    "#print(f'p     = {p:.4f}')"
   ]
  },
  {
   "cell_type": "code",
   "execution_count": 13,
   "id": "df67ea77",
   "metadata": {},
   "outputs": [
    {
     "name": "stdout",
     "output_type": "stream",
     "text": [
      "t     = -25.7700\n",
      "p     = 0.0000\n"
     ]
    }
   ],
   "source": [
    "def get_ind_ttest_tenure(train):\n",
    "\n",
    "    churn_sample=train[train.churn_Yes==1].tenure\n",
    "    no_churn_sample=train[train.churn_Yes==0].tenure\n",
    "    overall_mean = train.tenure.mean()\n",
    "\n",
    "    t, p = stats.ttest_ind(churn_sample, no_churn_sample, equal_var=False)\n",
    "    print(f't     = {t:.4f}')\n",
    "    print(f'p     = {p:.4f}')\n",
    "    \n",
    "get_ind_ttest_tenure(train)"
   ]
  }
 ],
 "metadata": {
  "kernelspec": {
   "display_name": "Python 3 (ipykernel)",
   "language": "python",
   "name": "python3"
  },
  "language_info": {
   "codemirror_mode": {
    "name": "ipython",
    "version": 3
   },
   "file_extension": ".py",
   "mimetype": "text/x-python",
   "name": "python",
   "nbconvert_exporter": "python",
   "pygments_lexer": "ipython3",
   "version": "3.9.12"
  }
 },
 "nbformat": 4,
 "nbformat_minor": 5
}
