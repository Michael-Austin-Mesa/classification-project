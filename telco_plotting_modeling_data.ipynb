{
 "cells": [
  {
   "cell_type": "code",
   "execution_count": 1,
   "id": "7952b0b4",
   "metadata": {},
   "outputs": [],
   "source": [
    "import pandas as pd\n",
    "import numpy as np\n",
    "\n",
    "import matplotlib.pyplot as plt\n",
    "import seaborn as sns\n",
    "import os\n",
    "\n",
    "from sklearn.model_selection import train_test_split\n",
    "import sklearn.preprocessing\n",
    "from sklearn.tree import DecisionTreeClassifier\n",
    "from sklearn.ensemble import RandomForestClassifier\n",
    "from sklearn.neighbors import KNeighborsClassifier\n",
    "from sklearn.linear_model import LogisticRegression\n",
    "\n",
    "import warnings\n",
    "warnings.filterwarnings(\"ignore\")\n",
    "\n",
    "from scipy import stats\n",
    "import re\n",
    "\n",
    "import acquire\n",
    "import prepare"
   ]
  },
  {
   "cell_type": "code",
   "execution_count": 2,
   "id": "a300ea9b",
   "metadata": {},
   "outputs": [],
   "source": [
    "df = acquire.get_telco_data()"
   ]
  },
  {
   "cell_type": "code",
   "execution_count": 3,
   "id": "a0d1f53b",
   "metadata": {},
   "outputs": [],
   "source": [
    "train, validate, test = prepare.prep_telco_data(df)"
   ]
  },
  {
   "cell_type": "code",
   "execution_count": 4,
   "id": "e198b92d",
   "metadata": {},
   "outputs": [],
   "source": [
    "#train.info()"
   ]
  },
  {
   "cell_type": "markdown",
   "id": "0dab1b1e",
   "metadata": {},
   "source": [
    "# Is the tenure of customers who have churned significantly different than the tenure of customers who have NOT churned?"
   ]
  },
  {
   "cell_type": "code",
   "execution_count": 43,
   "id": "ec1d3c56",
   "metadata": {},
   "outputs": [
    {
     "data": {
      "image/png": "[encoded data removed]",
      "text/plain": [
       "<Figure size 432x288 with 1 Axes>"
      ]
     },
     "metadata": {
      "needs_background": "light"
     },
     "output_type": "display_data"
    }
   ],
   "source": [
    "def get_hist_tenure_churn(train):\n",
    "    #tenure of customers who have churned\n",
    "    plt.hist(train[train.churn_Yes == 1].tenure, color='#FF6663')\n",
    "    plt.xlabel('Tenure')\n",
    "    plt.ylabel('# of Customers')\n",
    "    plt.grid(True)\n",
    "    plt.title('Histogram of Tenure (Churned)')\n",
    "    plt.show()\n",
    "\n",
    "get_hist_tenure_churn(train)"
   ]
  },
  {
   "cell_type": "code",
   "execution_count": 42,
   "id": "9d68b40d",
   "metadata": {},
   "outputs": [
    {
     "data": {
      "image/png": "[encoded data removed]",
      "text/plain": [
       "<Figure size 432x288 with 1 Axes>"
      ]
     },
     "metadata": {
      "needs_background": "light"
     },
     "output_type": "display_data"
    }
   ],
   "source": [
    "def get_hist_tenure_no_churn(train):\n",
    "    #tenure of customers who have NOT churned\n",
    "    plt.hist(train[train.churn_Yes == 0].tenure, color='#6EB5FF')\n",
    "    plt.xlabel('Tenure')\n",
    "    plt.ylabel('# of Customers')\n",
    "    plt.grid(True)\n",
    "    plt.title('Histogram of Tenure (Not Churned)')\n",
    "    plt.show()\n",
    "    \n",
    "get_hist_tenure_no_churn(train)"
   ]
  },
  {
   "cell_type": "code",
   "execution_count": 7,
   "id": "e3d7bac4",
   "metadata": {},
   "outputs": [],
   "source": [
    "def get_ind_ttest_tenure(train):\n",
    "\n",
    "    churn_sample=train[train.churn_Yes==1].tenure\n",
    "    no_churn_sample=train[train.churn_Yes==0].tenure\n",
    "    overall_mean = train.tenure.mean()\n",
    "\n",
    "    t, p = stats.ttest_ind(churn_sample, no_churn_sample, equal_var=False)\n",
    "    print(f't     = {t:.4f}')\n",
    "    print(f'p     = {p:.4f}')"
   ]
  },
  {
   "cell_type": "markdown",
   "id": "f020a370",
   "metadata": {},
   "source": [
    "# How often does churn occur?"
   ]
  },
  {
   "cell_type": "code",
   "execution_count": 8,
   "id": "b17d237b",
   "metadata": {},
   "outputs": [],
   "source": [
    "def get_pie_churn(train):\n",
    "    '''get pie char for percent churn overall'''\n",
    "    \n",
    "    #values and labels for chart\n",
    "    values = [len(train.churn_Yes[train.churn_Yes == 1]), len(train.churn_Yes[train.churn_Yes == 0])]\n",
    "    labels = ['Churn', 'Not Churned']\n",
    "\n",
    "    #generate and show\n",
    "    plt.pie(values, labels=labels, autopct='%.0f%%', colors=['#FF6663','#6EB5FF'])\n",
    "    plt.title('Churn Rate Overall')\n",
    "    plt.show()\n",
    "    \n",
    "#get_pie_churn(train)"
   ]
  },
  {
   "cell_type": "markdown",
   "id": "a99d4c01",
   "metadata": {},
   "source": [
    "> Our baseline is about 73% Not Churned in customers.\n",
    "\n",
    "> If we assumed a customer will not churn every time, we would be correct 73% of the time."
   ]
  },
  {
   "cell_type": "code",
   "execution_count": 9,
   "id": "2fb5983e",
   "metadata": {},
   "outputs": [],
   "source": [
    "#mult1_churn1 = train.multiple_lines_Yes[train.churn_Yes == 1].sum()\n",
    "#mult0_churn1 = len(train.multiple_lines_Yes[train.churn_Yes == 1]) - mult1_churn1\n",
    "#mult1_churn0 = train.multiple_lines_Yes[train.churn_Yes == 0].sum()\n",
    "#mult0_churn0 = len(train.multiple_lines_Yes[train.churn_Yes == 0]) -mult1_churn0\n",
    "\n",
    "#print(mult1_churn1)\n",
    "#print(mult0_churn1)\n",
    "#print(len(train.multiple_lines_Yes[train.churn_Yes == 1]))\n",
    "\n",
    "#print(mult1_churn0)\n",
    "#print(mult0_churn0)\n",
    "#print(len(train.multiple_lines_Yes[train.churn_Yes == 0]))"
   ]
  },
  {
   "cell_type": "code",
   "execution_count": 10,
   "id": "fcc09aac",
   "metadata": {},
   "outputs": [],
   "source": [
    "#len(train.multiple_lines_Yes[train.churn_Yes == 0])"
   ]
  },
  {
   "cell_type": "code",
   "execution_count": 11,
   "id": "e76ffc7a",
   "metadata": {},
   "outputs": [],
   "source": [
    "#len(train.multiple_lines_Yes)"
   ]
  },
  {
   "cell_type": "code",
   "execution_count": null,
   "id": "74986767",
   "metadata": {},
   "outputs": [],
   "source": []
  },
  {
   "cell_type": "code",
   "execution_count": 12,
   "id": "8031df58",
   "metadata": {},
   "outputs": [],
   "source": [
    "def get_pie_mult(train):\n",
    "    '''get pie charts for percent churn for\n",
    "    customers who have multiple lines \n",
    "    and customers who do not have multiple lines'''\n",
    "    \n",
    "    #create axis object\n",
    "    fig, (ax1,ax2) = plt.subplots(1,2)\n",
    "    \n",
    "    #values and labels for chart\n",
    "    mult1_churn1 = train.multiple_lines_Yes[train.churn_Yes == 1].sum()\n",
    "    mult0_churn1 = len(train.multiple_lines_Yes[train.churn_Yes == 1]) - mult1_churn1\n",
    "    mult1_churn0 = train.multiple_lines_Yes[train.churn_Yes == 0].sum()\n",
    "    mult0_churn0 = len(train.multiple_lines_Yes[train.churn_Yes == 0]) -mult1_churn0   \n",
    "    \n",
    "    values1 = [mult1_churn1,mult1_churn0]\n",
    "    values2 = [mult0_churn1,mult0_churn0]\n",
    "    labels = ['Churn', 'Not Churned']\n",
    "\n",
    "    #generate and show\n",
    "    ax1.pie(values1, labels=labels, autopct='%.0f%%', colors=['#FF6663','#6EB5FF'])\n",
    "    ax1.title.set_text('Has Multiple Lines')\n",
    "    ax2.pie(values2, labels=labels, autopct='%.0f%%', colors=['#FF6663','#6EB5FF'])\n",
    "    ax2.title.set_text('No Multiple Lines')\n",
    "    \n",
    "    plt.tight_layout()\n",
    "    plt.show()\n",
    "    \n",
    "#get_pie_mult(train)"
   ]
  },
  {
   "cell_type": "code",
   "execution_count": 13,
   "id": "73084993",
   "metadata": {},
   "outputs": [],
   "source": [
    "dep1_churn1 = train.dependents_encoded[train.churn_Yes == 1].sum()\n",
    "dep0_churn1 = len(train.dependents_encoded[train.churn_Yes == 1]) - dep1_churn1\n",
    "dep1_churn0 = train.dependents_encoded[train.churn_Yes == 0].sum()\n",
    "dep0_churn0 = len(train.dependents_encoded[train.churn_Yes == 0]) - dep1_churn0"
   ]
  },
  {
   "cell_type": "code",
   "execution_count": 14,
   "id": "05151550",
   "metadata": {},
   "outputs": [],
   "source": [
    "def get_pie_dep(train):\n",
    "    '''get pie charts for percent churn for\n",
    "    customers who have dependents \n",
    "    and customers who do not have dependents'''\n",
    "    \n",
    "    #create axis object\n",
    "    fig, (ax1,ax2) = plt.subplots(1,2)\n",
    "    \n",
    "    #values and labels for chart\n",
    "    dep1_churn1 = train.dependents_encoded[train.churn_Yes == 1].sum()\n",
    "    dep0_churn1 = len(train.dependents_encoded[train.churn_Yes == 1]) - dep1_churn1\n",
    "    dep1_churn0 = train.dependents_encoded[train.churn_Yes == 0].sum()\n",
    "    dep0_churn0 = len(train.dependents_encoded[train.churn_Yes == 0]) - dep1_churn0\n",
    "\n",
    "    values1 = [dep1_churn1,dep1_churn0]\n",
    "    values2 = [dep0_churn1,dep0_churn0]\n",
    "    labels = ['Churn', 'Not Churned']\n",
    "\n",
    "    #generate and show\n",
    "    ax1.pie(values1, labels=labels, autopct='%.0f%%', colors=['#FF6663','#6EB5FF'])\n",
    "    ax1.title.set_text('Has Dependents')\n",
    "    ax2.pie(values2, labels=labels, autopct='%.0f%%', colors=['#FF6663','#6EB5FF'])\n",
    "    ax2.title.set_text('No Dependents')\n",
    "    \n",
    "    plt.tight_layout()\n",
    "    plt.show()\n",
    "    \n",
    "#get_pie_dep(train)"
   ]
  },
  {
   "cell_type": "code",
   "execution_count": 15,
   "id": "757bd70c",
   "metadata": {},
   "outputs": [],
   "source": [
    "def get_pie_part(train):\n",
    "    '''get pie charts for percent churn for\n",
    "    customers who have partner \n",
    "    and customers who do not have partner'''\n",
    "    \n",
    "    #create axis object\n",
    "    fig, (ax1,ax2) = plt.subplots(1,2)\n",
    "    \n",
    "    #values and labels for chart\n",
    "    part1_churn1 = train.partner_encoded[train.churn_Yes == 1].sum()\n",
    "    part0_churn1 = len(train.partner_encoded[train.churn_Yes == 1]) - part1_churn1\n",
    "    part1_churn0 = train.partner_encoded[train.churn_Yes == 0].sum()\n",
    "    part0_churn0 = len(train.partner_encoded[train.churn_Yes == 0]) - part1_churn0\n",
    "\n",
    "    values1 = [part1_churn1,part1_churn0]\n",
    "    values2 = [part0_churn1,part0_churn0]\n",
    "    labels = ['Churn', 'Not Churned']\n",
    "\n",
    "    #generate and show\n",
    "    ax1.pie(values1, labels=labels, autopct='%.0f%%', colors=['#FF6663','#6EB5FF'])\n",
    "    ax1.title.set_text('Has Partner')\n",
    "    ax2.pie(values2, labels=labels, autopct='%.0f%%', colors=['#FF6663','#6EB5FF'])\n",
    "    ax2.title.set_text('No Partner')\n",
    "    \n",
    "    plt.tight_layout()\n",
    "    plt.show()\n",
    "    \n",
    "#get_pie_part(train)"
   ]
  },
  {
   "cell_type": "code",
   "execution_count": 16,
   "id": "c4371011",
   "metadata": {},
   "outputs": [],
   "source": [
    "def get_pie_sen(train):\n",
    "    '''get pie charts for percent churn for\n",
    "    customers who are senior citizens \n",
    "    and customers who are not senior citizens'''\n",
    "    \n",
    "    #create axis object\n",
    "    fig, (ax1,ax2) = plt.subplots(1,2)\n",
    "    \n",
    "    #values and labels for chart\n",
    "    sen1_churn1 = train.senior_citizen[train.churn_Yes == 1].sum()\n",
    "    sen0_churn1 = len(train.senior_citizen[train.churn_Yes == 1]) - sen1_churn1\n",
    "    sen1_churn0 = train.senior_citizen[train.churn_Yes == 0].sum()\n",
    "    sen0_churn0 = len(train.senior_citizen[train.churn_Yes == 0]) - sen1_churn0\n",
    "\n",
    "    values1 = [sen1_churn1,sen1_churn0]\n",
    "    values2 = [sen0_churn1,sen0_churn0]\n",
    "    labels = ['Churn', 'Not Churned']\n",
    "\n",
    "    #generate and show\n",
    "    ax1.pie(values1, labels=labels, autopct='%.0f%%', colors=['#FF6663','#6EB5FF'])\n",
    "    ax1.title.set_text('Is Senior Citizen')\n",
    "    ax2.pie(values2, labels=labels, autopct='%.0f%%', colors=['#FF6663','#6EB5FF'])\n",
    "    ax2.title.set_text('Not Senior Citizen')\n",
    "    \n",
    "    plt.tight_layout()\n",
    "    plt.show()\n",
    "    \n",
    "#get_pie_sen(train)"
   ]
  },
  {
   "cell_type": "code",
   "execution_count": 17,
   "id": "326e541c",
   "metadata": {},
   "outputs": [],
   "source": [
    "def get_pie_int(train):\n",
    "    '''get pie charts for percent churn for\n",
    "    customers who have internet service \n",
    "    and customers who dont have internet service'''\n",
    "    \n",
    "    #create axis object\n",
    "    fig, (ax1,ax2) = plt.subplots(1,2)\n",
    "    \n",
    "    #values and labels for chart\n",
    "    int1_churn1 = train.internet_service_type_None[train.churn_Yes == 1].sum()\n",
    "    int0_churn1 = len(train.internet_service_type_None[train.churn_Yes == 1]) - int1_churn1\n",
    "    int1_churn0 = train.internet_service_type_None[train.churn_Yes == 0].sum()\n",
    "    int0_churn0 = len(train.internet_service_type_None[train.churn_Yes == 0]) - int1_churn0\n",
    "\n",
    "    values1 = [int1_churn1,int1_churn0]\n",
    "    values2 = [int0_churn1,int0_churn0]\n",
    "    labels = ['Churn', 'Not Churned']\n",
    "\n",
    "    #generate and show\n",
    "    ax1.pie(values1, labels=labels, autopct='%.0f%%', colors=['#FF6663','#6EB5FF'])\n",
    "    ax1.title.set_text('Has Internet Service')\n",
    "    ax2.pie(values2, labels=labels, autopct='%.0f%%', colors=['#FF6663','#6EB5FF'])\n",
    "    ax2.title.set_text('No Internet Service')\n",
    "    \n",
    "    plt.tight_layout()\n",
    "    plt.show()\n",
    "    \n",
    "#get_pie_int(train)"
   ]
  },
  {
   "cell_type": "code",
   "execution_count": null,
   "id": "9b454bee",
   "metadata": {},
   "outputs": [],
   "source": []
  },
  {
   "cell_type": "markdown",
   "id": "0ecf2bfe",
   "metadata": {},
   "source": [
    "## Modeling"
   ]
  },
  {
   "cell_type": "code",
   "execution_count": 18,
   "id": "c3f06696",
   "metadata": {},
   "outputs": [],
   "source": [
    "#train.info()"
   ]
  },
  {
   "cell_type": "code",
   "execution_count": 19,
   "id": "7ae1cd42",
   "metadata": {},
   "outputs": [],
   "source": [
    "#features to keep\n",
    "keep_columns = ['dependents_encoded','internet_service_type_None','senior_citizen','partner_encoded', 'tenure', 'churn_Yes', 'multiple_lines_Yes'] \n",
    "#keep_columns = ['dependents_encoded','internet_service_type_None','senior_citizen','partner_encoded', 'tenure', 'churn_Yes'] "
   ]
  },
  {
   "cell_type": "code",
   "execution_count": 20,
   "id": "bac445b0",
   "metadata": {},
   "outputs": [],
   "source": [
    "train = train[keep_columns]\n",
    "validate = validate[keep_columns]\n",
    "test = test[keep_columns]"
   ]
  },
  {
   "cell_type": "code",
   "execution_count": 21,
   "id": "3ae02959",
   "metadata": {},
   "outputs": [],
   "source": [
    "train_x = train.drop(columns='churn_Yes').reset_index(drop=True)\n",
    "train_y = train[['churn_Yes']].reset_index(drop=True)\n",
    "\n",
    "validate_x = validate.drop(columns='churn_Yes').reset_index(drop=True)\n",
    "validate_y = validate[['churn_Yes']].reset_index(drop=True)\n",
    "\n",
    "test_x = test.drop(columns='churn_Yes').reset_index(drop=True)\n",
    "test_y = test[['churn_Yes']].reset_index(drop=True)"
   ]
  },
  {
   "cell_type": "code",
   "execution_count": 22,
   "id": "de349483",
   "metadata": {},
   "outputs": [],
   "source": [
    "#train_x"
   ]
  },
  {
   "cell_type": "markdown",
   "id": "e3441d71",
   "metadata": {},
   "source": [
    "### decision tree"
   ]
  },
  {
   "cell_type": "code",
   "execution_count": 29,
   "id": "07100d1b",
   "metadata": {},
   "outputs": [
    {
     "name": "stdout",
     "output_type": "stream",
     "text": [
      "Accuracy of Decision Tree on train data is 0.7914655829311659\n",
      "Accuracy of Decision Tree on validate data is 0.764218009478673\n"
     ]
    }
   ],
   "source": [
    "def get_tree(train_x, validate_x, train_y, validate_y):\n",
    "    \n",
    "    '''get decision tree accuracy on train and validate'''\n",
    "    #create classifier then fit\n",
    "    tree = DecisionTreeClassifier(max_depth=5, random_state=777)\n",
    "    tree = tree.fit(train_x, train_y)\n",
    "\n",
    "    print(f\"Accuracy of Decision Tree on train data is {tree.score(train_x, train_y)}\")\n",
    "    print(f\"Accuracy of Decision Tree on validate data is {tree.score(validate_x, validate_y)}\")\n",
    "    \n",
    "get_tree(train_x, validate_x, train_y, validate_y)"
   ]
  },
  {
   "cell_type": "markdown",
   "id": "87c469e2",
   "metadata": {},
   "source": [
    "### rf"
   ]
  },
  {
   "cell_type": "code",
   "execution_count": 30,
   "id": "8c092dda",
   "metadata": {
    "scrolled": true
   },
   "outputs": [],
   "source": [
    "def get_rf(train_x, validate_x, train_y, validate_y):\n",
    "\n",
    "    '''get rf accuracy on train and validate'''\n",
    "    #create classifier and fit\n",
    "    rf = RandomForestClassifier(max_depth=5, random_state=777)\n",
    "    rf = rf.fit(train_x, train_y)\n",
    "\n",
    "    print(f\"Accuracy of Random Forest on train data is {rf.score(train_x, train_y)}\")\n",
    "    print(f\"Accuracy of Random Forest on validate data is {rf.score(validate_x, validate_y)}\")"
   ]
  },
  {
   "cell_type": "markdown",
   "id": "69133fa1",
   "metadata": {},
   "source": [
    "### regression"
   ]
  },
  {
   "cell_type": "code",
   "execution_count": 32,
   "id": "3d7f0cae",
   "metadata": {},
   "outputs": [],
   "source": [
    "def get_reg(train_x, validate_x, train_y, validate_y):\n",
    "\n",
    "    '''get reg accuracy on train and validate'''\n",
    "    #create classifier and fit\n",
    "    logit = LogisticRegression(solver='liblinear')\n",
    "    logit = logit.fit(train_x, train_y)\n",
    "\n",
    "    print(f\"Accuracy of Logistic Regression on train is {logit.score(train_x, train_y)}\")\n",
    "    print(f\"Accuracy of Logistic Regression on validate is {logit.score(validate_x, validate_y)}\")"
   ]
  },
  {
   "cell_type": "markdown",
   "id": "4f2e6e3e",
   "metadata": {},
   "source": [
    "### knn"
   ]
  },
  {
   "cell_type": "code",
   "execution_count": 33,
   "id": "08da7f8c",
   "metadata": {},
   "outputs": [],
   "source": [
    "def get_knn(train_x, validate_x, train_y, validate_y):\n",
    "    \n",
    "    '''get knn accuracy on train and validate'''\n",
    "    knn = KNeighborsClassifier(n_neighbors=5, weights='uniform')\n",
    "    knn = knn.fit(train_x, train_y)\n",
    "\n",
    "    # print results\n",
    "    print(f\"Accuracy of KNN on train is {knn.score(train_x, train_y)}\")\n",
    "    print(f\"Accuracy of KNN on validate is {knn.score(validate_x, validate_y)}\")"
   ]
  },
  {
   "cell_type": "markdown",
   "id": "9fad8e37",
   "metadata": {},
   "source": [
    ">including multiple lines yielded 1.2%~ increase in accuracy overall across all model train and validate sets"
   ]
  },
  {
   "cell_type": "markdown",
   "id": "6ca7fb69",
   "metadata": {},
   "source": [
    "## rf was best so we go with that for test"
   ]
  },
  {
   "cell_type": "code",
   "execution_count": 34,
   "id": "f949ba0d",
   "metadata": {},
   "outputs": [],
   "source": [
    "def get_rf_test(train_x, validate_x, train_y, validate_y):\n",
    "\n",
    "    rf = RandomForestClassifier(max_depth=5, random_state=777)\n",
    "    rf = rf.fit(train_x, train_y)\n",
    "\n",
    "    print(f\"Accuracy of Random Forest on train data is {rf.score(train_x, train_y)}\")\n",
    "    print(f\"Accuracy of Random Forest on test data is {rf.score(test_x, test_y)}\")"
   ]
  },
  {
   "cell_type": "code",
   "execution_count": null,
   "id": "1d5a25fa",
   "metadata": {},
   "outputs": [],
   "source": []
  }
 ],
 "metadata": {
  "kernelspec": {
   "display_name": "Python 3 (ipykernel)",
   "language": "python",
   "name": "python3"
  },
  "language_info": {
   "codemirror_mode": {
    "name": "ipython",
    "version": 3
   },
   "file_extension": ".py",
   "mimetype": "text/x-python",
   "name": "python",
   "nbconvert_exporter": "python",
   "pygments_lexer": "ipython3",
   "version": "3.9.12"
  }
 },
 "nbformat": 4,
 "nbformat_minor": 5
}
